{
 "cells": [
  {
   "cell_type": "markdown",
   "id": "c7127929",
   "metadata": {},
   "source": [
    "# Konzept\n",
    "\n",
    "\n",
    "Here is some text for explaining a topic\n",
    "\n",
    "\n",
    "Now some code block"
   ]
  },
  {
   "cell_type": "code",
   "execution_count": 1,
   "id": "4cbb00e6",
   "metadata": {},
   "outputs": [
    {
     "name": "stdout",
     "output_type": "stream",
     "text": [
      "Python syntax highlighting\n"
     ]
    }
   ],
   "source": [
    "note = \"Python syntax highlighting\"\n",
    "print(note)"
   ]
  },
  {
   "cell_type": "markdown",
   "id": "e7263142",
   "metadata": {},
   "source": [
    "Finished\n",
    "\n",
    "Here is the notebook \n",
    "[link](https://jupyterhub.wwu.de/hub/user-redirect/git-pull?repo=https%3A%2F%2Fgithub.com%2Fj-albr16%2Fasumr&branch=main&urlpath=lab%2Ftree%2Fasumr%2Fros2%2Ftopic%2Fquiz.ipynb%2F)"
   ]
  }
 ],
 "metadata": {
  "jupytext": {
   "formats": "md:myst",
   "text_representation": {
    "extension": ".md",
    "format_name": "myst"
   }
  },
  "kernelspec": {
   "display_name": "Python 3",
   "language": "python",
   "name": "python3"
  },
  "language_info": {
   "codemirror_mode": {
    "name": "ipython",
    "version": 3
   },
   "file_extension": ".py",
   "mimetype": "text/x-python",
   "name": "python",
   "nbconvert_exporter": "python",
   "pygments_lexer": "ipython3",
   "version": "3.10.12"
  },
  "source_map": [
   11,
   21,
   24
  ]
 },
 "nbformat": 4,
 "nbformat_minor": 5
}