{
 "cells": [
  {
   "cell_type": "markdown",
   "id": "a88e12fe",
   "metadata": {},
   "source": [
    "# Quiz\n",
    "\n",
    "\n",
    "Hier sind ein"
   ]
  },
  {
   "cell_type": "code",
   "execution_count": null,
   "id": "e28c0536",
   "metadata": {
    "tags": [
     "hide-output"
    ]
   },
   "outputs": [],
   "source": [
    "from jupyterquiz import display_quiz\n",
    "import json, requests\n",
    "\n",
    "git_path=\"https://raw.githubusercontent.com/j-albr16/asumr/main/quizzes/topic.json\"\n",
    "\n",
    "r = requests.get(git_path)\n",
    "\n",
    "display_quiz([r.json()])"
   ]
  }
 ],
 "metadata": {
  "kernelspec": {
   "display_name": "Python 3",
   "language": "python",
   "name": "python3"
  }
 },
 "nbformat": 4,
 "nbformat_minor": 5
}
