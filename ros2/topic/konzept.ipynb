{
 "cells": [
  {
   "cell_type": "markdown",
   "id": "7b2e7069",
   "metadata": {},
   "source": [
    "# Konzept of a Topic\n",
    "\n",
    "\n",
    "Here is some text for explaining a topic\n",
    "\n",
    "\n",
    "Now some code block"
   ]
  },
  {
   "cell_type": "code",
   "execution_count": null,
   "id": "79644df9",
   "metadata": {},
   "outputs": [],
   "source": [
    "note = \"Python syntax highlighting\"\n",
    "print(note)"
   ]
  },
  {
   "cell_type": "markdown",
   "id": "a3db94ea",
   "metadata": {},
   "source": [
    "Finished\n",
    "\n",
    "Here is the notebook \n",
    "[link](https://jupyterhub.wwu.de/hub/user-redirect/git-pull?repo=https%3A%2F%2Fgithub.com%2Fj-albr16%2Fasumr&branch=main&urlpath=lab%2Ftree%2Fasumr%2Fros2%2Ftopic%2Fkonzept.md%2F)"
   ]
  }
 ],
 "metadata": {
  "kernelspec": {
   "display_name": "Python 3",
   "language": "python",
   "name": "python3"
  }
 },
 "nbformat": 4,
 "nbformat_minor": 5
}
